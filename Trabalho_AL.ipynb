{
  "cells": [
    {
      "cell_type": "markdown",
      "metadata": {
        "id": "eukLzqLbVa8v"
      },
      "source": [
        "Importando as bibliotecas\n"
      ]
    },
    {
      "cell_type": "code",
      "execution_count": 114,
      "metadata": {
        "id": "tsS4UBzgUr7_"
      },
      "outputs": [],
      "source": [
        "# import seaborn as sns\n",
        "# import sklearn as sk\n",
        "import pandas as pd\n",
        "import numpy as np\n",
        "import numpy.linalg as la\n",
        "from matplotlib import pyplot as plt\n",
        "\n",
        "# from numpy.core.defchararray import join\n",
        "from random import randrange\n",
        "import random as rd\n"
      ]
    },
    {
      "cell_type": "code",
      "execution_count": 115,
      "metadata": {
        "id": "EdCAtm_NN4kr"
      },
      "outputs": [],
      "source": [
        "def fetch_dataset(filename: str):\n",
        "    return np.array(pd.read_csv(filename, header=0))"
      ]
    },
    {
      "cell_type": "markdown",
      "metadata": {
        "id": "EjO20eHTmuN-"
      },
      "source": [
        "Função K-means\n"
      ]
    },
    {
      "cell_type": "code",
      "execution_count": 116,
      "metadata": {
        "id": "bdBzuqiK9ydC"
      },
      "outputs": [],
      "source": [
        "def my_centers(samples, n_of_centers : int) -> np.ndarray:\n",
        "    \"\"\"Return random centers based on the location of the samples\"\"\"\n",
        "    centers, points_used = [], []\n",
        "    sample_size = len(samples)\n",
        "    i = 0\n",
        "\n",
        "    while i < n_of_centers:\n",
        "        new_center = randrange(sample_size)\n",
        "        if new_center not in points_used: # check if the random point hasn't been chosen\n",
        "            points_used.append(new_center)\n",
        "            centers.append(samples[new_center])\n",
        "            i += 1\n",
        "\n",
        "    return np.array(centers)\n",
        "\n",
        "\n",
        "def distance(sample, center):\n",
        "    return la.norm(sample - center)\n",
        "\n",
        "\n",
        "# returns which center has the minimal distance to the point and the minimal distance found\n",
        "def find_minimal_distance(point, centers):\n",
        "    min_pos = 0\n",
        "    min_dist = distance(point, centers[0])\n",
        "\n",
        "    for i in range(1, len(centers)):\n",
        "        new_dist = distance(point, centers[i])\n",
        "        if new_dist < min_dist:\n",
        "            min_dist = new_dist\n",
        "            min_pos = i\n",
        "    return min_pos, min_dist\n",
        "\n",
        "\n",
        "def my_kmeans(samples, n_of_centers : int, max_iteration: int = 1000):\n",
        "    # adquire os centros dos clusters\n",
        "    centers = my_centers(samples, n_of_centers)\n",
        "    # inicia a separacao dos pontos em clusters\n",
        "    n_of_samples = len(samples)\n",
        "    over = False\n",
        "    iterations = 0\n",
        "\n",
        "    while not over and iterations < max_iteration:\n",
        "        cluster_sum = [0] * n_of_centers\n",
        "        cluster_number_points = [0] * n_of_centers\n",
        "\n",
        "        # encontra a distancia minima e soma a distancia no respectivo cluster\n",
        "        for i in range(n_of_samples):\n",
        "            min = find_minimal_distance(samples[i], centers)\n",
        "            cluster_sum[min[0]] += samples[i]\n",
        "            cluster_number_points[min[0]] += 1\n",
        "\n",
        "        # calcula a media de cada cluster e modifica os centros\n",
        "        prev_center = centers.copy()\n",
        "        for i in range(n_of_centers):\n",
        "            if cluster_number_points[i] != 0:\n",
        "                centers[i] = np.array(cluster_sum[i] / cluster_number_points[i])\n",
        "\n",
        "        # calcula a diferenca dos centros com a interacao anterior\n",
        "        diff_norm = 0\n",
        "        for i in range(n_of_centers):\n",
        "            diff_v = centers[i] - prev_center[i]\n",
        "            diff_norm += la.norm(diff_v)\n",
        "\n",
        "        # verifica se os centros foram muito alterados, senao encerra o algoritmo\n",
        "        if diff_norm < 1e-3:\n",
        "            over = True\n",
        "            break\n",
        "\n",
        "        iterations += 1\n",
        "\n",
        "    return centers\n"
      ]
    },
    {
      "cell_type": "markdown",
      "metadata": {
        "id": "1fzXwtVgaae0"
      },
      "source": [
        "Recebendo os dados do dataset\n"
      ]
    },
    {
      "cell_type": "code",
      "execution_count": 117,
      "metadata": {
        "id": "TAMRkLhQVfq-"
      },
      "outputs": [],
      "source": [
        "def k_elbow(amostra, centros):\n",
        "    # inicializacao de variaveis\n",
        "    data = [0] * (centros - 2)\n",
        "    k = 2  # numero de centros\n",
        "\n",
        "    # laço de repetição de k centros\n",
        "    while k < centros:\n",
        "        centroides = my_kmeans(amostra, k)\n",
        "        i = 0\n",
        "        soma_quadrado_distancia = 0\n",
        "        # laço de repetição para calcular a soma do quadrado das distancias\n",
        "        while i < len(amostra):\n",
        "            array_intermediario = find_minimal_distance(amostra[i], centroides)\n",
        "            soma_quadrado_distancia += array_intermediario[1] ** 2\n",
        "            i += 1\n",
        "        data[k - 2] = soma_quadrado_distancia\n",
        "        k += 1\n",
        "\n",
        "    # variaveis para plotar o grafico\n",
        "    x = np.zeros([centros - 2])\n",
        "    h = 0\n",
        "    while h < centros - 2:\n",
        "        x[h] = h + 2\n",
        "        h += 1\n",
        "\n",
        "    return x, data\n"
      ]
    },
    {
      "cell_type": "markdown",
      "metadata": {
        "id": "ZoFh1xUbUyJQ"
      },
      "source": [
        "Calculo elbow\n"
      ]
    },
    {
      "cell_type": "markdown",
      "metadata": {
        "id": "omKfXoxbN4k1"
      },
      "source": [
        "# PCA"
      ]
    },
    {
      "cell_type": "code",
      "execution_count": 118,
      "metadata": {
        "id": "vESBlVlbN4k2"
      },
      "outputs": [],
      "source": [
        "def mean(data: np.ndarray) -> np.ndarray:\n",
        "    \"\"\"Calculates the mean of a numpy.ndarray.\"\"\"\n",
        "    acc = [0] * len(data[0])\n",
        "    for i in data:\n",
        "        acc += i\n",
        "    return np.array(acc) / len(data)\n",
        "\n",
        "\n",
        "def demean(data: np.ndarray) -> np.ndarray:\n",
        "    \"\"\"Subtracts the mean of a numpy.ndarray from each element.\"\"\"\n",
        "    return data - mean(data)\n",
        "\n",
        "\n",
        "def covariance(data: np.ndarray) -> np.ndarray:\n",
        "    a = 0\n",
        "    \"\"\"Calculates the covariance of a numpy.ndarray.\"\"\"\n",
        "    b = 0\n",
        "    return (1 / (len(data) - 1)) * np.dot(data.T, data)\n",
        "\n",
        "\n",
        "def order_vectors(values: np.array, vectors: np.matrix):\n",
        "    \"\"\"Orders the values and vectors based on the values.\"\"\"\n",
        "    # val = np.sqrt(values.T * values) # magnitude of each vector\n",
        "    val = values\n",
        "    values_order = np.argsort(val)[::-1]  # indexes on reverse order\n",
        "    return values[values_order], vectors[:, values_order] # return the sorted values and vectors"
      ]
    },
    {
      "cell_type": "code",
      "execution_count": 122,
      "metadata": {
        "id": "Aj90KFHVN4k4"
      },
      "outputs": [],
      "source": [
        "def PCA(data, n : int = 2):\n",
        "    demeaned = demean(data)\n",
        "    cov_matrix = covariance(demeaned)\n",
        "    eig_val, eig_vec = np.linalg.eig(cov_matrix)\n",
        "    eig_val, eig_vec = order_vectors(eig_val, eig_vec)\n",
        "    return eig_vec[:, :n], demeaned\n"
      ]
    },
    {
      "cell_type": "code",
      "execution_count": 129,
      "metadata": {
        "colab": {
          "base_uri": "https://localhost:8080/",
          "height": 347
        },
        "id": "1R00XZympDL5",
        "outputId": "df407b1b-5405-4b07-e7f6-fcf26a371f6a"
      },
      "outputs": [
        {
          "output_type": "display_data",
          "data": {
            "image/png": "[encoded data removed]",
            "text/plain": [
              "<Figure size 576x396 with 1 Axes>"
            ]
          },
          "metadata": {}
        }
      ],
      "source": [
        "file = \"https://raw.githubusercontent.com/G-Nozawa/K-Means-Elbow-method/main/dados/dados_parte_1.csv\"\n",
        "data = fetch_dataset(file)\n",
        "# x, y = k_elbow(data, 7)\n",
        "\n",
        "centers = my_kmeans(data, 4)\n",
        "labels = []\n",
        "for i in range(len(data)):\n",
        "    labels.append(find_minimal_distance(data[i], centers)[0])\n",
        "labels = np.array(labels).reshape((-1, 1))\n",
        "\n",
        "data_label = np.hstack((data, labels))\n",
        "\n",
        "\n",
        "\n",
        "# # # Plotting\n",
        "# plt.title(\"Gráfico com os resultados finais\")\n",
        "# plt.xlabel(\"Número de centros\")\n",
        "# plt.ylabel(\"Soma quadrada das distâncias\")\n",
        "# plt.plot(x, y)\n",
        "# plt.show()\n",
        "\n",
        "eigvec, demeaned = PCA(data)\n",
        "\n",
        "result = demeaned @ eigvec\n",
        "\n",
        "pca_clusters = []\n",
        "\n",
        "for i in range(4):\n",
        "    sum = []\n",
        "    for d in range(len(result)):\n",
        "        if (labels[d] == i):\n",
        "            sum.append(result[d])\n",
        "    sum = np.vstack(sum)\n",
        "    pca_clusters.append(sum)\n",
        "\n",
        "for i in range(4):\n",
        "      plt.scatter(pca_clusters[i][:,0], pca_clusters[i][:,1], alpha=0.9, label=i)\n",
        "plt.grid(\"true\")"
      ]
    }
  ],
  "metadata": {
    "colab": {
      "collapsed_sections": [],
      "name": "Trabalho_AL_KMeans_KElbows.ipynb",
      "provenance": []
    },
    "kernelspec": {
      "display_name": "Python 3",
      "name": "python3"
    },
    "language_info": {
      "codemirror_mode": {
        "name": "ipython",
        "version": 3
      },
      "file_extension": ".py",
      "mimetype": "text/x-python",
      "name": "python",
      "nbconvert_exporter": "python",
      "pygments_lexer": "ipython3",
      "version": "3.9.10"
    }
  },
  "nbformat": 4,
  "nbformat_minor": 0
}