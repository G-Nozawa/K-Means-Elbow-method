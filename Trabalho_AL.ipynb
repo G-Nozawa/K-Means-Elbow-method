{
  "cells": [
    {
      "cell_type": "markdown",
      "metadata": {
        "id": "eukLzqLbVa8v"
      },
      "source": [
        "Importando as bibliotecas\n"
      ]
    },
    {
      "cell_type": "code",
      "execution_count": 8,
      "metadata": {
        "id": "tsS4UBzgUr7_"
      },
      "outputs": [],
      "source": [
        "# import seaborn as sns\n",
        "# import sklearn as sk\n",
        "import pandas as pd\n",
        "import numpy as np\n",
        "import numpy.linalg as la\n",
        "from matplotlib import pyplot as plt\n",
        "\n",
        "# from numpy.core.defchararray import join\n",
        "from random import randrange\n"
      ]
    },
    {
      "cell_type": "markdown",
      "metadata": {
        "id": "EjO20eHTmuN-"
      },
      "source": [
        "Função K-means\n"
      ]
    },
    {
      "cell_type": "code",
      "execution_count": 9,
      "metadata": {
        "id": "bdBzuqiK9ydC"
      },
      "outputs": [],
      "source": [
        "def my_centers(samples, number_centers):\n",
        "    \"\"\"Using the Forgy method\"\"\"\n",
        "    centers = []\n",
        "    points_used = []\n",
        "    sample_size = len(samples)\n",
        "    i = 0\n",
        "    while i < number_centers:\n",
        "        new_center = randrange(sample_size)\n",
        "        # check if the random point hasn't been chosen\n",
        "        if new_center not in points_used:\n",
        "            points_used.append(new_center)\n",
        "            centers.append(samples[new_center])\n",
        "            i += 1\n",
        "    return centers\n",
        "\n",
        "\n",
        "def distance(sample, center):\n",
        "    diff = sample - center\n",
        "    dist = np.linalg.norm(diff)\n",
        "    return dist\n",
        "\n",
        "\n",
        "# returns which center has the minimal distance to the point and the minimal distance found\n",
        "def find_minimal_distance(point, centers):\n",
        "    min_pos = 0\n",
        "    min_dist = distance(point, centers[0])\n",
        "\n",
        "    for i in range(1, len(centers)):\n",
        "        new_dist = distance(point, centers[i])\n",
        "        if new_dist < min_dist:\n",
        "            min_dist = new_dist\n",
        "            min_pos = i\n",
        "    return min_pos, min_dist\n",
        "\n",
        "\n",
        "def my_kmeans(samples, number_centers, max_iteration: int = 1000):\n",
        "    # adquire os centros dos clusters\n",
        "    centers = my_centers(samples, number_centers)\n",
        "    # inicia a separacao dos pontos em clusters\n",
        "    number_samples = len(samples)\n",
        "    over = False\n",
        "    iterations = 0\n",
        "    while not over:\n",
        "        cluster_sum = [0] * number_centers\n",
        "        cluster_number_points = [0] * number_centers\n",
        "\n",
        "        # encontra a distancia minima e soma a distancia no respectivo cluster\n",
        "        for i in range(number_samples):\n",
        "            min = find_minimal_distance(samples[i], centers)\n",
        "            cluster_sum[min[0]] += samples[i]\n",
        "            cluster_number_points[min[0]] += 1\n",
        "\n",
        "        # calcula a media de cada cluster e modifica os centros\n",
        "        prev_center = centers.copy()\n",
        "        for i in range(number_centers):\n",
        "            if(cluster_number_points[i] != 0):\n",
        "                centers[i] = np.array(cluster_sum[i] / cluster_number_points[i])\n",
        "\n",
        "        # calcula a diferenca dos centros com a interacao anterior\n",
        "        diff_norm = 0\n",
        "        for i in range(number_centers):\n",
        "            diff_v = centers[i] - prev_center[i]\n",
        "            diff_norm += np.linalg.norm(diff_v)\n",
        "\n",
        "        # verifica se os centros foram muito alterados, senao encerra o algoritmo\n",
        "        if diff_norm < 0.001:\n",
        "            over = True\n",
        "            break\n",
        "        \n",
        "        # verifica se o numero maximo de iteracoes foi alcancado, senao encerra o algoritmo\n",
        "        iterations += 1\n",
        "        if iterations > max_iteration:\n",
        "            over = True\n",
        "            break\n",
        "    return centers\n"
      ]
    },
    {
      "cell_type": "markdown",
      "metadata": {
        "id": "1fzXwtVgaae0"
      },
      "source": [
        "Recebendo os dados do dataset\n"
      ]
    },
    {
      "cell_type": "code",
      "execution_count": 10,
      "metadata": {
        "id": "CjXTgiYlaZMG"
      },
      "outputs": [],
      "source": [
        "def fetch_dataset(string):\n",
        "    arquivo = pd.read_csv(string, header=0)\n",
        "    linhas = len(arquivo)\n",
        "    colunas = len(arquivo.columns)\n",
        "    array_linha = np.zeros(colunas)\n",
        "    array_final = np.array([array_linha] * linhas)\n",
        "    j = 0\n",
        "    i = 0\n",
        "\n",
        "    while i < linhas:\n",
        "        array_linha[j] = arquivo.iloc[i, j]\n",
        "        j += 1\n",
        "        if j == 7:\n",
        "            array_final[i] = array_linha\n",
        "            j = 0\n",
        "            i += 1\n",
        "\n",
        "    return array_final\n"
      ]
    },
    {
      "cell_type": "markdown",
      "metadata": {
        "id": "ZoFh1xUbUyJQ"
      },
      "source": [
        "Calculo elbow\n"
      ]
    },
    {
      "cell_type": "code",
      "execution_count": 11,
      "metadata": {
        "id": "TAMRkLhQVfq-"
      },
      "outputs": [],
      "source": [
        "def k_elbow(amostra, centros):\n",
        "    # inicializacao de variaveis\n",
        "    array_valores_finais = [0] * (centros - 2)\n",
        "    k = 2  # numero de centros\n",
        "\n",
        "    # laço de repetição de k centros\n",
        "    while k < centros:\n",
        "        centroides = my_kmeans(amostra, k)\n",
        "        i = 0\n",
        "        soma_quadrado_distancia = 0\n",
        "        # laço de repetição para calcular a soma do quadrado das distancias\n",
        "        while i < len(amostra):\n",
        "            array_intermediario = find_minimal_distance(amostra[i], centroides)\n",
        "            soma_quadrado_distancia += array_intermediario[1] ** 2\n",
        "            i += 1\n",
        "        array_valores_finais[k - 2] = soma_quadrado_distancia\n",
        "        k += 1\n",
        "\n",
        "    # variaveis para plotar o grafico\n",
        "    x = np.zeros([centros - 2])\n",
        "    h = 0\n",
        "    while h < centros - 2:\n",
        "        x[h] = h + 2\n",
        "        h += 1\n",
        "\n",
        "    # Plotting\n",
        "    plt.title(\"Gráfico com os resultados finais\")\n",
        "    plt.xlabel(\"Número de centros\")\n",
        "    plt.ylabel(\"Soma quadrada das distâncias\")\n",
        "    plt.plot(x, array_valores_finais)\n",
        "    plt.show()\n"
      ]
    },
    {
      "cell_type": "code",
      "execution_count": 12,
      "metadata": {
        "colab": {
          "base_uri": "https://localhost:8080/",
          "height": 295
        },
        "id": "1R00XZympDL5",
        "outputId": "8ad19c1a-cbdb-4faf-a822-6ecc106973b0"
      },
      "outputs": [
        {
          "data": {
            "image/png": "[encoded data removed]",
            "text/plain": [
              "<Figure size 432x288 with 1 Axes>"
            ]
          },
          "metadata": {
            "needs_background": "light"
          },
          "output_type": "display_data"
        }
      ],
      "source": [
        "# executando o programa\n",
        "file = \"https://raw.githubusercontent.com/G-Nozawa/K-Means-Elbow-method/main/dados/dados_parte2.csv\"\n",
        "data = fetch_dataset(file)\n",
        "# print(array_final)\n",
        "k_elbow(data, 17)\n"
      ]
    },
    {
      "cell_type": "markdown",
      "metadata": {},
      "source": [
        "# PCA"
      ]
    },
    {
      "cell_type": "code",
      "execution_count": 13,
      "metadata": {},
      "outputs": [],
      "source": [
        "def mean(data: np.ndarray) -> np.ndarray:\n",
        "    \"\"\"Calculates the mean of a numpy.ndarray.\"\"\"\n",
        "    acc = [0] * len(data[0])\n",
        "    for i in data:\n",
        "        acc += i\n",
        "    return np.array(acc) / len(data)\n",
        "\n",
        "\n",
        "def demean(data: np.ndarray) -> np.ndarray:\n",
        "    \"\"\"Subtracts the mean of a numpy.ndarray from each element.\"\"\"\n",
        "    return data - mean(data)\n",
        "\n",
        "\n",
        "def covariance(data: np.ndarray) -> np.ndarray:\n",
        "    \"\"\"Calculates the covariance of a numpy.ndarray.\"\"\"\n",
        "    return (1 / (len(data) - 1)) * (data * data.T)\n",
        "\n",
        "\n",
        "def order_vectors(values: np.array, vectors: np.matrix):\n",
        "    \"\"\"Orders the values and vectors based on the values.\"\"\"\n",
        "    values = np.sqrt(values.T * values) # magnitude of each vector\n",
        "    values_order = np.argsort(values)[::-1]  # indexes on reverse order\n",
        "    return values[values_order], vectors[values_order] # return the sorted values and vectors"
      ]
    },
    {
      "cell_type": "code",
      "execution_count": 14,
      "metadata": {},
      "outputs": [],
      "source": [
        "def PCA(data):\n",
        "    demeaned = demean(data)\n",
        "    cov_matrix = covariance(demeaned)\n",
        "    eig_val, eig_vec = np.linalg.eig(cov_matrix)\n",
        "    eig_val, eig_vec = order_vectors(eig_val, eig_vec)\n",
        "    return eig_val, eig_vec\n"
      ]
    }
  ],
  "metadata": {
    "colab": {
      "collapsed_sections": [],
      "name": "Trabalho_AL_KMeans_KElbows.ipynb",
      "provenance": []
    },
    "kernelspec": {
      "display_name": "Python 3",
      "name": "python3"
    },
    "language_info": {
      "codemirror_mode": {
        "name": "ipython",
        "version": 3
      },
      "file_extension": ".py",
      "mimetype": "text/x-python",
      "name": "python",
      "nbconvert_exporter": "python",
      "pygments_lexer": "ipython3",
      "version": "3.9.10"
    }
  },
  "nbformat": 4,
  "nbformat_minor": 0
}
