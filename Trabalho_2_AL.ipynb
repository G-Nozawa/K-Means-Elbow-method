{
  "nbformat": 4,
  "nbformat_minor": 0,
  "metadata": {
    "colab": {
      "name": "Trabalho_AL_Gabriel_Henrique_3.ipynb",
      "provenance": [],
      "collapsed_sections": []
    },
    "kernelspec": {
      "name": "python3",
      "display_name": "Python 3"
    },
    "language_info": {
      "name": "python"
    }
  },
  "cells": [
    {
      "cell_type": "markdown",
      "source": [
        "Importando as bibliotecas"
      ],
      "metadata": {
        "id": "eukLzqLbVa8v"
      }
    },
    {
      "cell_type": "code",
      "execution_count": 2,
      "metadata": {
        "id": "tsS4UBzgUr7_"
      },
      "outputs": [],
      "source": [
        "import seaborn as sns\n",
        "\n",
        "import sklearn as sk\n",
        "\n",
        "import pandas as pd\n",
        "\n",
        "import numpy as np\n",
        "\n",
        "import numpy.linalg as la\n",
        "\n",
        "from matplotlib import pyplot as plt \n",
        "\n",
        "from numpy.testing._private.utils import KnownFailureTest\n",
        "\n",
        "from numpy.core.defchararray import join"
      ]
    },
    {
      "cell_type": "markdown",
      "source": [
        "Função K-means"
      ],
      "metadata": {
        "id": "EjO20eHTmuN-"
      }
    },
    {
      "cell_type": "code",
      "source": [
        "def my_centers(samples, number_centers):\n",
        "  #Forgy method\n",
        "  centers = []\n",
        "  for i in range(number_centers):\n",
        "    centers.append(samples[i])\n",
        "  return centers\n",
        "\n",
        "def distance(sample, center):\n",
        "  diff = (sample-center)\n",
        "  dist = np.linalg.norm(diff)\n",
        "  return dist\n",
        "\n",
        "def find_minimun_distance(point, centers):\n",
        "  min_pos = 0\n",
        "  min_dist = distance(point, centers[0])\n",
        "  for i in range(1, len(centers)):\n",
        "    new_dist = distance(point, centers[i])\n",
        "    if(new_dist < min_dist):\n",
        "      min_dist = new_dist\n",
        "      min_pos = i\n",
        "  return min_pos, min_dist;\n",
        "\n",
        "def my_kmeans(arrays, number_centers):\n",
        "    max_iteration = 1000\n",
        "    #inicializacao\n",
        "    #adquire os centros dos clusters\n",
        "    centers = my_centers(arrays, number_centers)\n",
        "    #inicia a separacao dos pontos em clusters\n",
        "    samples = len(arrays)\n",
        "    over = False\n",
        "    iterations = 0\n",
        "    while(not over):\n",
        "      iterations += 1\n",
        "      cluster_sum = [0]*number_centers\n",
        "      cluster_number_points = np.zeros(number_centers)\n",
        "      #encontra a distancia minima e soma a distancia no respectivo cluster\n",
        "      for i in range(samples):\n",
        "        min = find_minimun_distance(arrays[i], centers)\n",
        "        cluster_sum[min[0]] += arrays[i]\n",
        "        cluster_number_points[min[0]] += 1\n",
        "      #calcula a media de cada cluster e modifica os centros\n",
        "      prev_center = centers\n",
        "      for i in range(number_centers):\n",
        "        centers[i] = cluster_sum[i]/cluster_number_points[i]\n",
        "      #verifica se os centros foram alterados, senao encerra o algoritmo\n",
        "      for i in range(number_centers):\n",
        "        if((centers[i] == prev_center[i]).all):\n",
        "          over = True\n",
        "          break\n",
        "        if(iterations > max_iteration):\n",
        "          over = True\n",
        "          break\n",
        "    return centers"
      ],
      "metadata": {
        "id": "bdBzuqiK9ydC"
      },
      "execution_count": 3,
      "outputs": []
    },
    {
      "cell_type": "markdown",
      "source": [
        "Recebendo os dados do dataset"
      ],
      "metadata": {
        "id": "1fzXwtVgaae0"
      }
    },
    {
      "cell_type": "code",
      "source": [
        "def recebe_dataset(string):\n",
        "\n",
        " arquivo = pd.read_csv(string, header=0)\n",
        "\n",
        " linhas = len(arquivo)\n",
        "\n",
        " colunas = len(arquivo.columns)\n",
        "\n",
        " array_linha = np.zeros(colunas)\n",
        "\n",
        " array_final = np.array([array_linha] * linhas)\n",
        "\n",
        " j = 0\n",
        "\n",
        " i = 0\n",
        "\n",
        " while ( i < linhas):\n",
        "\n",
        "   array_linha[j] = arquivo.iloc[i,j]\n",
        "\n",
        "   j += 1\n",
        "\n",
        "   if( j == 7):\n",
        "\n",
        "       array_final[i] = array_linha\n",
        "\n",
        "       j = 0\n",
        "\n",
        "       i += 1\n",
        "        \n",
        " return(array_final)"
      ],
      "metadata": {
        "id": "CjXTgiYlaZMG"
      },
      "execution_count": 73,
      "outputs": []
    },
    {
      "cell_type": "markdown",
      "source": [
        "Calculo elbow"
      ],
      "metadata": {
        "id": "ZoFh1xUbUyJQ"
      }
    },
    {
      "cell_type": "code",
      "source": [
        "def my_k_elbow(amostra, centros):\n",
        "\n",
        "  #inicio alguns arrays e valores que fazeri o uso durante a execução\n",
        "\n",
        " tamanho_array_distancias = len(amostra)\n",
        "\n",
        " tamanho_array_intermediario = 2\n",
        "\n",
        " array_distancias = np.zeros(tamanho_array_distancias)\n",
        "\n",
        " array_intermediario = np.zeros(tamanho_array_intermediario)\n",
        "\n",
        " array_valores_finais = np.zeros(centros-2)\n",
        "\n",
        " y = np.zeros([centros-2])\n",
        "\n",
        " i = k = h = 0\n",
        "\n",
        " n = 2\n",
        "\n",
        " #laço de repetição de n centros\n",
        "\n",
        " while(n < centros):\n",
        "\n",
        "   centroides = np.array(my_kmeans(amostra, n))\n",
        "\n",
        "   #laço de repetição para a menor distancia com amostras e centroides\n",
        "\n",
        "   while(i < len(amostra)):\n",
        "\n",
        "     array_intermediario = find_minimun_distance(amostra[i],centroides)\n",
        "\n",
        "     array_distancias[i] = array_intermediario[1]\n",
        "    \n",
        "     i += 1\n",
        "\n",
        "   #assim que o array que contem as distancias fica cheio, ele sera calculado e \n",
        "   #adicionado ao array final, o array final é utilizado para plotar o grafico\n",
        "\n",
        "   i = 0\n",
        "\n",
        "   #é percorrido cada elemento e elevado ao quadrado\n",
        "\n",
        "   while(i < len(array_distancias)):\n",
        "\n",
        "     array_distancias[i] = array_distancias[i]*array_distancias[i]\n",
        "\n",
        "     i += 1\n",
        "\n",
        "   i = 0\n",
        "\n",
        "   #depois, é somado\n",
        "\n",
        "   array_valores_finais[k] = array_distancias.sum()\n",
        "\n",
        "   k += 1\n",
        "  \n",
        "   n += 1\n",
        "\n",
        "   #cria um array apartir com a quantidade de centros\n",
        "\n",
        "   while(h < centros-2):\n",
        "\n",
        "     y[h] = h\n",
        "\n",
        "     h += 1\n",
        "   \n",
        " #print(array_valores_finais)\n",
        "\n",
        " #plota o grafico final\n",
        "\n",
        " plt.title(\"Gráfico com os resultados finais\")\n",
        "\n",
        " plt.xlabel(\"x\") \n",
        "\n",
        " plt.ylabel(\"y\") \n",
        "\n",
        " plt.plot(y,array_valores_finais) \n",
        "\n",
        " plt.show()"
      ],
      "metadata": {
        "id": "TAMRkLhQVfq-"
      },
      "execution_count": 60,
      "outputs": []
    },
    {
      "cell_type": "code",
      "source": [
        "#executando\n",
        "\n",
        "nome = \"dados_parte_1.csv\"\n",
        "\n",
        "array_final = recebe_dataset(nome)\n",
        "\n",
        "#print(array_final)\n",
        "\n",
        "my_k_elbow(array_final, 17)"
      ],
      "metadata": {
        "colab": {
          "base_uri": "https://localhost:8080/",
          "height": 295
        },
        "id": "1R00XZympDL5",
        "outputId": "cd62a8d1-0eb0-4709-e423-6a292ef56ecc"
      },
      "execution_count": 75,
      "outputs": [
        {
          "output_type": "display_data",
          "data": {
            "image/png": "[encoded data removed]",
            "text/plain": [
              "<Figure size 432x288 with 1 Axes>"
            ]
          },
          "metadata": {
            "needs_background": "light"
          }
        }
      ]
    }
  ]
}