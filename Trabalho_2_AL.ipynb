{
  "cells": [
    {
      "cell_type": "markdown",
      "metadata": {
        "id": "eukLzqLbVa8v"
      },
      "source": [
        "Importando as bibliotecas\n"
      ]
    },
    {
      "cell_type": "code",
      "execution_count": 8,
      "metadata": {
        "id": "tsS4UBzgUr7_"
      },
      "outputs": [],
      "source": [
        "import seaborn as sns\n",
        "import sklearn as sk\n",
        "import pandas as pd\n",
        "import numpy as np\n",
        "import numpy.linalg as la\n",
        "from matplotlib import pyplot as plt\n",
        "from numpy.core.defchararray import join\n"
      ]
    },
    {
      "cell_type": "markdown",
      "metadata": {
        "id": "EjO20eHTmuN-"
      },
      "source": [
        "Função K-means\n"
      ]
    },
    {
      "cell_type": "code",
      "execution_count": 9,
      "metadata": {
        "id": "bdBzuqiK9ydC"
      },
      "outputs": [],
      "source": [
        "def my_centers(samples, number_centers):\n",
        "    \"\"\"\n",
        "    It uses the Forgy method\n",
        "    \"\"\"\n",
        "    centers = []\n",
        "    for i in range(number_centers):\n",
        "        centers.append(samples[i])\n",
        "    return centers\n",
        "\n",
        "\n",
        "def distance(sample, center):\n",
        "    diff = sample - center\n",
        "    dist = np.linalg.norm(diff)\n",
        "    return dist\n",
        "\n",
        "\n",
        "def find_minimal_distance(point, centers):\n",
        "    min_pos = 0\n",
        "    min_dist = distance(point, centers[0])\n",
        "    \n",
        "    for i in range(1, len(centers)):\n",
        "        new_dist = distance(point, centers[i])\n",
        "        if new_dist < min_dist:\n",
        "            min_dist = new_dist\n",
        "            min_pos = i\n",
        "    return min_pos, min_dist\n",
        "\n",
        "\n",
        "def my_kmeans(arrays, number_centers, max_iteration : int = 1000):\n",
        "    # adquire os centros dos clusters\n",
        "    centers = my_centers(arrays, number_centers)\n",
        "    # inicia a separacao dos pontos em clusters\n",
        "    samples = len(arrays)\n",
        "    over = False\n",
        "    iterations = 0\n",
        "    while not over:\n",
        "        iterations += 1\n",
        "        cluster_sum = [0] * number_centers\n",
        "        cluster_number_points = np.zeros(number_centers)\n",
        "        \n",
        "        # encontra a distancia minima e soma a distancia no respectivo cluster\n",
        "        for i in range(samples):\n",
        "            min = find_minimal_distance(arrays[i], centers)\n",
        "            cluster_sum[min[0]] += arrays[i]\n",
        "            cluster_number_points[min[0]] += 1\n",
        "        \n",
        "        # calcula a media de cada cluster e modifica os centros\n",
        "        prev_center = centers\n",
        "        for i in range(number_centers):\n",
        "            centers[i] = cluster_sum[i] / cluster_number_points[i]\n",
        "        \n",
        "        # verifica se os centros foram alterados, senao encerra o algoritmo\n",
        "        for i in range(number_centers):\n",
        "            if (centers[i] == prev_center[i]).all:\n",
        "                over = True\n",
        "                break\n",
        "            if iterations > max_iteration:\n",
        "                over = True\n",
        "                break\n",
        "    return centers\n"
      ]
    },
    {
      "cell_type": "markdown",
      "metadata": {
        "id": "1fzXwtVgaae0"
      },
      "source": [
        "Recebendo os dados do dataset\n"
      ]
    },
    {
      "cell_type": "code",
      "execution_count": 10,
      "metadata": {
        "id": "CjXTgiYlaZMG"
      },
      "outputs": [],
      "source": [
        "def recebe_dataset(string):\n",
        "    arquivo = pd.read_csv(string, header=0)\n",
        "    linhas = len(arquivo)\n",
        "    colunas = len(arquivo.columns)\n",
        "    array_linha = np.zeros(colunas)\n",
        "    array_final = np.array([array_linha] * linhas)\n",
        "    j = 0\n",
        "    i = 0\n",
        "\n",
        "    while i < linhas:\n",
        "        array_linha[j] = arquivo.iloc[i, j]\n",
        "        j += 1\n",
        "        if j == 7:\n",
        "            array_final[i] = array_linha\n",
        "            j = 0\n",
        "            i += 1\n",
        "\n",
        "    return array_final\n"
      ]
    },
    {
      "cell_type": "markdown",
      "metadata": {
        "id": "ZoFh1xUbUyJQ"
      },
      "source": [
        "Calculo elbow\n"
      ]
    },
    {
      "cell_type": "code",
      "execution_count": 11,
      "metadata": {
        "id": "TAMRkLhQVfq-"
      },
      "outputs": [],
      "source": [
        "def my_k_elbow(amostra, centros):\n",
        "\n",
        "    # inicio alguns arrays e valores que fazeri o uso durante a execução\n",
        "\n",
        "    tamanho_array_distancias = len(amostra)\n",
        "    tamanho_array_intermediario = 2\n",
        "    array_distancias = np.zeros(tamanho_array_distancias)\n",
        "    array_intermediario = np.zeros(tamanho_array_intermediario)\n",
        "    array_valores_finais = np.zeros(centros - 2)\n",
        "\n",
        "    y = np.zeros([centros - 2])\n",
        "    i = k = h = 0\n",
        "    n = 2\n",
        "\n",
        "    # laço de repetição de n centros\n",
        "    while n < centros:\n",
        "        centroides = np.array(my_kmeans(amostra, n))\n",
        "        \n",
        "        # laço de repetição para a menor distancia com amostras e centroides\n",
        "        while i < len(amostra):\n",
        "            array_intermediario = find_minimal_distance(amostra[i], centroides)\n",
        "            array_distancias[i] = array_intermediario[1]\n",
        "            i += 1\n",
        "\n",
        "        # assim que o array que contem as distancias fica cheio, ele sera calculado e\n",
        "        # adicionado ao array final, o array final é utilizado para plotar o grafico\n",
        "\n",
        "        # é percorrido cada elemento e elevado ao quadrado\n",
        "        i = 0\n",
        "        while i < len(array_distancias):\n",
        "            array_distancias[i] = array_distancias[i] * array_distancias[i]\n",
        "            i += 1\n",
        "        \n",
        "        i = 0\n",
        "        # depois, é somado\n",
        "        array_valores_finais[k] = array_distancias.sum()\n",
        "        k += 1\n",
        "        n += 1\n",
        "        # cria um array apartir com a quantidade de centros\n",
        "\n",
        "        while h < centros - 2:\n",
        "            y[h] = h\n",
        "            h += 1\n",
        "\n",
        "    # print(array_valores_finais)\n",
        "\n",
        "    # plota o grafico final\n",
        "    plt.title(\"Gráfico com os resultados finais\")\n",
        "    plt.xlabel(\"x\")\n",
        "    plt.ylabel(\"y\")\n",
        "    plt.plot(y, array_valores_finais)\n",
        "    plt.show()\n"
      ]
    },
    {
      "cell_type": "code",
      "execution_count": 12,
      "metadata": {
        "colab": {
          "base_uri": "https://localhost:8080/",
          "height": 295
        },
        "id": "1R00XZympDL5",
        "outputId": "cd62a8d1-0eb0-4709-e423-6a292ef56ecc"
      },
      "outputs": [
        {
          "data": {
            "image/png": "[encoded data removed]",
            "text/plain": [
              "<Figure size 432x288 with 1 Axes>"
            ]
          },
          "metadata": {
            "needs_background": "light"
          },
          "output_type": "display_data"
        }
      ],
      "source": [
        "# executando o programa\n",
        "nome = \"https://raw.githubusercontent.com/G-Nozawa/K-Means-Elbow-method/main/dados/dados_parte_1.csv\"\n",
        "array_final = recebe_dataset(nome)\n",
        "# print(array_final)\n",
        "my_k_elbow(array_final, 17)"
      ]
    }
  ],
  "metadata": {
    "colab": {
      "collapsed_sections": [],
      "name": "Trabalho_AL_Gabriel_Henrique_3.ipynb",
      "provenance": []
    },
    "kernelspec": {
      "display_name": "Python 3",
      "name": "python3"
    },
    "language_info": {
      "codemirror_mode": {
        "name": "ipython",
        "version": 3
      },
      "file_extension": ".py",
      "mimetype": "text/x-python",
      "name": "python",
      "nbconvert_exporter": "python",
      "pygments_lexer": "ipython3",
      "version": "3.10.2"
    }
  },
  "nbformat": 4,
  "nbformat_minor": 0
}
