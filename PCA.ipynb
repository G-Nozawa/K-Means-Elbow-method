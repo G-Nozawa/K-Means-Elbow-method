{
 "cells": [
  {
   "cell_type": "code",
   "execution_count": null,
   "metadata": {},
   "outputs": [],
   "source": [
    "import numpy as np"
   ]
  },
  {
   "cell_type": "code",
   "execution_count": null,
   "metadata": {},
   "outputs": [],
   "source": [
    "def mean(data : np.ndarray) -> np.ndarray:\n",
    "    \"\"\"Calculates the mean of a numpy.ndarray.\"\"\"\n",
    "    return np.mean(data, axis=0)\n",
    "\n",
    "def demean(data : np.ndarray) -> np.ndarray:\n",
    "    \"\"\"Subtracts the mean of a numpy.ndarray from each element.\"\"\"\n",
    "    return data - mean(data)\n",
    "\n",
    "def covariance(data : np.ndarray) -> np.ndarray:\n",
    "    \"\"\"Calculates the covariance of a numpy.ndarray.\"\"\"\n",
    "    return np.cov(data.T)\n",
    "    #TODO make my own covariance function\n",
    "\n",
    "\n",
    "# calculate the eigenvalues and eigenvectors of the covariance matrix\n",
    "def eig(data : np.ndarray) -> np.ndarray:\n",
    "    \"\"\"Calculates the eigenvalues and eigenvectors of a numpy.ndarray.\"\"\"\n",
    "    return np.linalg.eig(data)\n",
    "\n",
    "\n"
   ]
  }
 ],
 "metadata": {
  "language_info": {
   "name": "python"
  },
  "orig_nbformat": 4
 },
 "nbformat": 4,
 "nbformat_minor": 2
}
