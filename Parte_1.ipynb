{
  "cells": [
    {
      "cell_type": "markdown",
      "metadata": {
        "id": "eukLzqLbVa8v"
      },
      "source": [
        "Importando as bibliotecas\n"
      ]
    },
    {
      "cell_type": "code",
      "execution_count": 2,
      "metadata": {
        "id": "tsS4UBzgUr7_"
      },
      "outputs": [],
      "source": [
        "import pandas as pd\n",
        "import numpy as np\n",
        "import numpy.linalg as la\n",
        "from matplotlib import pyplot as plt\n",
        "from random import randrange\n"
      ]
    },
    {
      "cell_type": "code",
      "execution_count": 3,
      "metadata": {
        "id": "EdCAtm_NN4kr"
      },
      "outputs": [],
      "source": [
        "def fetch_dataset(filename: str):\n",
        "    return np.array(pd.read_csv(filename, header=0))"
      ]
    },
    {
      "cell_type": "markdown",
      "metadata": {},
      "source": [
        "#### Auxiliar functions"
      ]
    },
    {
      "cell_type": "code",
      "execution_count": 4,
      "metadata": {},
      "outputs": [],
      "source": [
        "def my_centers(samples, n_of_centers : int) -> np.ndarray:\n",
        "    \"\"\"Retorna centros aleatórios baseados na localização dos dados\"\"\"\n",
        "    centers, points_used = [], []\n",
        "    sample_size = len(samples)\n",
        "    i = 0\n",
        "\n",
        "    while i < n_of_centers:\n",
        "        new_center = randrange(sample_size)\n",
        "        if new_center not in points_used: # check if the random point hasn't been chosen\n",
        "            points_used.append(new_center)\n",
        "            centers.append(samples[new_center])\n",
        "            i += 1\n",
        "\n",
        "    return np.array(centers)\n",
        "\n",
        "\n",
        "def distance(sample, center):\n",
        "    return la.norm(sample - center)\n",
        "\n",
        "\n",
        "def find_minimal_distance(point, centers):\n",
        "    \"\"\"Retorna o índice do centro mais próximo de um ponto.\"\"\"\n",
        "    min_pos = 0\n",
        "    min_dist = distance(point, centers[0])\n",
        "\n",
        "    for i in range(1, len(centers)):\n",
        "        new_dist = distance(point, centers[i])\n",
        "        if new_dist < min_dist:\n",
        "            min_dist = new_dist\n",
        "            min_pos = i\n",
        "    return min_pos, min_dist\n",
        "\n",
        "def vector_mean(data: np.ndarray) -> np.ndarray:\n",
        "    \"\"\"Calcula a média de um numpy.ndarray.\"\"\"\n",
        "    acc = [0] * len(data[0])\n",
        "    for i in data:\n",
        "        acc += i\n",
        "    return np.array(acc) / len(data)\n",
        "\n",
        "\n",
        "def demean(data: np.ndarray) -> np.ndarray:\n",
        "    \"\"\"\"Subtrai a média de cada elemento de um numpy.ndarray de um outro numpy.ndarray.\"\"\"\n",
        "    return data - vector_mean(data)\n",
        "\n",
        "\n",
        "def covariance(data: np.ndarray) -> np.ndarray:\n",
        "    \"\"\"Retorna a matriz de covariância de uma matriz de dados\"\"\"\n",
        "    return (1 / (len(data) - 1)) * np.dot(data.T, data)\n",
        "\n",
        "\n",
        "def order_vectors(values: np.array, vectors: np.matrix):\n",
        "    \"\"\"Ordena os autovetores de acordo com os autovalores.\"\"\"\n",
        "    values_order = np.argsort(values)[::-1]  # indexes on reverse order\n",
        "    return values[values_order], vectors[:, values_order] # return the sorted values and vectors"
      ]
    },
    {
      "cell_type": "markdown",
      "metadata": {
        "id": "EjO20eHTmuN-"
      },
      "source": [
        "Função K-means\n"
      ]
    },
    {
      "cell_type": "code",
      "execution_count": 5,
      "metadata": {
        "id": "bdBzuqiK9ydC"
      },
      "outputs": [],
      "source": [
        "def my_kmeans(samples, n_of_centers : int, max_iteration: int = 1000, epsilon: float = 0.0001):\n",
        "    \"\"\"Algoritmo de K-means.\"\"\"\n",
        "    # adquire os centros dos clusters\n",
        "    centers = my_centers(samples, n_of_centers)\n",
        "    # inicia a separacao dos pontos em clusters\n",
        "    n_of_samples = len(samples)\n",
        "    over = False\n",
        "    iterations = 0\n",
        "\n",
        "    while not over and iterations < max_iteration:\n",
        "        cluster_sum = [0] * n_of_centers\n",
        "        cluster_number_points = [0] * n_of_centers\n",
        "\n",
        "        # encontra a distancia minima e soma a distancia no respectivo cluster\n",
        "        for i in range(n_of_samples):\n",
        "            min = find_minimal_distance(samples[i], centers)\n",
        "            cluster_sum[min[0]] += samples[i]\n",
        "            cluster_number_points[min[0]] += 1\n",
        "\n",
        "        # calcula a media de cada cluster e modifica os centros\n",
        "        prev_center = centers.copy()\n",
        "        for i in range(n_of_centers):\n",
        "            if cluster_number_points[i] != 0:\n",
        "                centers[i] = np.array(cluster_sum[i] / cluster_number_points[i])\n",
        "\n",
        "        # calcula a diferenca dos centros com a interacao anterior\n",
        "        diff_norm = 0\n",
        "        for i in range(n_of_centers):\n",
        "            diff_v = centers[i] - prev_center[i]\n",
        "            diff_norm += la.norm(diff_v)\n",
        "\n",
        "        # verifica se os centros foram muito alterados, senao encerra o algoritmo\n",
        "        if diff_norm < epsilon:\n",
        "            over = True\n",
        "            break\n",
        "\n",
        "        iterations += 1\n",
        "\n",
        "    return centers\n"
      ]
    },
    {
      "cell_type": "code",
      "execution_count": 6,
      "metadata": {
        "id": "TAMRkLhQVfq-"
      },
      "outputs": [],
      "source": [
        "def k_elbow(sample, centers : int = 17):\n",
        "    \"\"\"Retorna o número de clusters mais adequado para a sample.\"\"\"\n",
        "    # inicializacao de variaveis\n",
        "    squared_distance = [0] * (centers - 2)\n",
        "    k = 2  # numero de centers\n",
        "\n",
        "    # laço de repetição de k centers\n",
        "    while k < centers:\n",
        "        centroids = my_kmeans(sample, k)\n",
        "        i = 0\n",
        "        sqr_dist_sum = 0\n",
        "        # laço de repetição para calcular a soma do quadrado das distancias\n",
        "        while i < len(sample):\n",
        "            aux = find_minimal_distance(sample[i], centroids)\n",
        "            sqr_dist_sum += aux[1] ** 2\n",
        "            i += 1\n",
        "        squared_distance[k - 2] = sqr_dist_sum\n",
        "        k += 1\n",
        "\n",
        "    # variaveis para plotar o grafico\n",
        "    n_clusters = np.zeros([centers - 2])\n",
        "    h = 0\n",
        "    while h < centers - 2:\n",
        "        n_clusters[h] = h + 2\n",
        "        h += 1\n",
        "\n",
        "    return n_clusters, squared_distance\n"
      ]
    },
    {
      "cell_type": "code",
      "execution_count": 7,
      "metadata": {
        "id": "Aj90KFHVN4k4"
      },
      "outputs": [],
      "source": [
        "def PCA(data, n : int = 2):\n",
        "    demeaned = demean(data)\n",
        "    cov_matrix = covariance(demeaned)\n",
        "    eig_val, eig_vec = np.linalg.eig(cov_matrix)\n",
        "    eig_val, eig_vec = order_vectors(eig_val, eig_vec)\n",
        "    return demeaned @ eig_vec[:, :n]\n",
        "    \n"
      ]
    },
    {
      "cell_type": "markdown",
      "metadata": {},
      "source": [
        "# Loading data"
      ]
    },
    {
      "cell_type": "code",
      "execution_count": 8,
      "metadata": {},
      "outputs": [],
      "source": [
        "file = \"https://raw.githubusercontent.com/G-Nozawa/K-Means-Elbow-method/main/dados/dados_parte_1.csv\"\n",
        "data = fetch_dataset(file)"
      ]
    },
    {
      "cell_type": "markdown",
      "metadata": {},
      "source": [
        "### K-Elbow"
      ]
    },
    {
      "cell_type": "code",
      "execution_count": 17,
      "metadata": {},
      "outputs": [
        {
          "data": {
            "image/png": "[encoded data removed]",
            "text/plain": [
              "<Figure size 432x288 with 1 Axes>"
            ]
          },
          "metadata": {
            "needs_background": "light"
          },
          "output_type": "display_data"
        }
      ],
      "source": [
        "x, y = k_elbow(data, 17)\n",
        "\n",
        "plt.title(\"Gráfico com os resultados finais\")\n",
        "plt.xlabel(\"Número de centros\")\n",
        "plt.ylabel(\"Soma quadrada das distâncias\")\n",
        "plt.plot(x, y)\n",
        "plt.show()"
      ]
    },
    {
      "cell_type": "code",
      "execution_count": 19,
      "metadata": {
        "colab": {
          "base_uri": "https://localhost:8080/",
          "height": 347
        },
        "id": "1R00XZympDL5",
        "outputId": "df407b1b-5405-4b07-e7f6-fcf26a371f6a"
      },
      "outputs": [
        {
          "data": {
            "image/png": "[encoded data removed]",
            "text/plain": [
              "<Figure size 432x288 with 1 Axes>"
            ]
          },
          "metadata": {
            "needs_background": "light"
          },
          "output_type": "display_data"
        }
      ],
      "source": [
        "\n",
        "n = int(input(\"Digite o número de centros: \"))\n",
        "\n",
        "centers = my_kmeans(data, n)\n",
        "labels = []\n",
        "for i in range(len(data)):\n",
        "    labels.append(find_minimal_distance(data[i], centers)[0])\n",
        "labels = np.array(labels).reshape((-1, 1))\n",
        "\n",
        "data_label = np.hstack((data, labels))\n",
        "\n",
        "pca_result = PCA(data)\n",
        "pca_clusters = []\n",
        "\n",
        "for i in range(n):\n",
        "    sum = []\n",
        "    for d in range(len(pca_result)):\n",
        "        if (labels[d] == i):\n",
        "            sum.append(pca_result[d])\n",
        "    sum = np.vstack(sum)\n",
        "    pca_clusters.append(sum)\n",
        "\n",
        "for i in range(n):\n",
        "      plt.scatter(pca_clusters[i][:,0], pca_clusters[i][:,1], alpha=0.9, label=i)\n",
        "plt.grid(\"true\")"
      ]
    }
  ],
  "metadata": {
    "colab": {
      "collapsed_sections": [],
      "name": "Trabalho_AL_KMeans_KElbows.ipynb",
      "provenance": []
    },
    "kernelspec": {
      "display_name": "Python 3",
      "name": "python3"
    },
    "language_info": {
      "codemirror_mode": {
        "name": "ipython",
        "version": 3
      },
      "file_extension": ".py",
      "mimetype": "text/x-python",
      "name": "python",
      "nbconvert_exporter": "python",
      "pygments_lexer": "ipython3",
      "version": "3.9.10"
    }
  },
  "nbformat": 4,
  "nbformat_minor": 0
}
