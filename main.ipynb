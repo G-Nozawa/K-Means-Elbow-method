{
  "nbformat": 4,
  "nbformat_minor": 0,
  "metadata": {
    "colab": {
      "name": "Untitled1.ipynb",
      "provenance": [],
      "collapsed_sections": [],
      "authorship_tag": "ABX9TyMZAfLJidx3rqQMCZtvE0F9",
      "include_colab_link": true
    },
    "kernelspec": {
      "name": "python3",
      "display_name": "Python 3"
    },
    "language_info": {
      "name": "python"
    }
  },
  "cells": [
    {
      "cell_type": "markdown",
      "metadata": {
        "id": "view-in-github",
        "colab_type": "text"
      },
      "source": [
        "<a href=\"https://colab.research.google.com/github/G-Nozawa/K-Means-Elbow-method/blob/main/main.ipynb\" target=\"_parent\"><img src=\"https://colab.research.google.com/assets/colab-badge.svg\" alt=\"Open In Colab\"/></a>"
      ]
    },
    {
      "cell_type": "code",
      "source": [
        "import numpy as np\n",
        "import numpy.linalg as la\n",
        "import pandas as pd\n",
        "\n",
        "def my_centers(samples, number_centers):\n",
        "  #Forgy method\n",
        "  centers = []\n",
        "  for i in range(number_centers):\n",
        "    centers.append(samples[i])\n",
        "  return centers\n",
        "\n",
        "def distance(sample, center):\n",
        "  diff = (sample-center)\n",
        "  dist = np.linalg.norm(diff)\n",
        "  return dist\n",
        "\n",
        "def find_minimun_distance(point, centers):\n",
        "  min_pos = 0\n",
        "  min_dist = distance(point, centers[0])\n",
        "  for i in range(1, len(centers)):\n",
        "    new_dist = distance(point, centers[i])\n",
        "    if(new_dist < min_dist):\n",
        "      min_dist = new_dist\n",
        "      min_pos = i\n",
        "  return min_pos, min_dist;\n",
        "\n",
        "def my_kmeans(arrays, number_centers):\n",
        "    #inicializacao\n",
        "    #adquire os centros dos clusters\n",
        "    centers = my_centers(arrays, number_centers)\n",
        "    #inicia a separacao dos pontos em clusters\n",
        "    samples = len(arrays)\n",
        "    over = False\n",
        "    while(not over):\n",
        "      cluster_sum = np.zeros(number_centers)\n",
        "      cluster_number_points = np.zeros(number_centers)\n",
        "      #encontra a distancia minima e soma a distancia no respectivo cluster\n",
        "      for i in range(samples):\n",
        "        min = find_minimun_distance(array[i], centers)\n",
        "        cluster_sum[min[0]] += array[i]\n",
        "        cluster_number_points[min[0]] += 1\n",
        "      #calcula a media de cada cluster e modifica os centros\n",
        "      prev_center = centers\n",
        "      for i in range(number_centers):\n",
        "        centers[i] = cluster_sum[i]/cluster_number_points[i]\n",
        "      #verifica se os centros foram alterados, senao encerra o algoritmo\n",
        "      over = True\n",
        "      for i in range(number_centers):\n",
        "        if(centers[i] != prev_center[i]):\n",
        "          over = False\n",
        "          break\n",
        "    return centers"
      ],
      "metadata": {
        "id": "_-sA_r15PW9n"
      },
      "execution_count": 7,
      "outputs": []
    }
  ]
}